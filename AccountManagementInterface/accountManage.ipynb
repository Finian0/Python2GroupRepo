{
 "cells": [
  {
   "cell_type": "code",
   "execution_count": 2,
   "metadata": {},
   "outputs": [
    {
     "name": "stdout",
     "output_type": "stream",
     "text": [
      "['amohr', '1337', '43.00', '0666', '101.45', '1729', '5000.00', '5000']\n",
      "['bbaggins', '2890', '15345.49', '2941', '########', '3021', '0.00', '50000']\n",
      "['emusk', '0001', '21588738', '0002', '########', '0003', '435678.6', '10000000']\n"
     ]
    }
   ],
   "source": [
    "def csv_FileReader(csvFile):\n",
    "    import csv\n",
    "    with open(csvFile, 'r') as file:\n",
    "        reader = csv.reader(file)\n",
    "        next(reader)\n",
    "        for row in reader:\n",
    "            print(row)\n",
    "csvFile = 'accounts.csv'\n",
    "csv_FileReader(csvFile)\n",
    "\n",
    "def csv_FileWriter(csvFile): \n",
    "    \n",
    "    import csv \n",
    "    with open(csvFile, 'w') as file:\n",
    "        writer = csv.writer(file)\n"
   ]
  },
  {
   "cell_type": "code",
   "execution_count": 1,
   "metadata": {},
   "outputs": [],
   "source": [
    "class Account:\n",
    "    '''\n",
    "    Represents a generic financial account\n",
    "\n",
    "    attributes: accountID a string of 4 integers, balance as a float or int, interest as a float or int\n",
    "    '''\n",
    "    def __init__(self, accountID = '', balance = 0, interest = 0):\n",
    "\n",
    "        if not isinstance(accountID, str):\n",
    "            raise TypeError('Account id must be a string')\n",
    "        \n",
    "        if len(accountID) != 4:\n",
    "            raise ValueError('Account id must contain 4 digits')\n",
    "\n",
    "        for number in accountID:\n",
    "            if number not in '0123456789':\n",
    "                raise ValueError('Account id must contain only numbers')\n",
    "        \n",
    "        if not isinstance(balance, (int, float)):\n",
    "            raise TypeError('balance must be an integer or float')\n",
    "        \n",
    "        if not isinstance(interest, (int, float)):\n",
    "            raise TypeError('interest must be an integer or float')\n",
    "        \n",
    "        if interest < 0:\n",
    "            raise ValueError('Interest cannot be negative')\n",
    "        \n",
    "        self.accountID = accountID\n",
    "        self.balance = balance\n",
    "        self.interest = interest\n",
    "    \n",
    "    def __str__(self):\n",
    "        return f'Account ID: {self.accountID} Balance: {self.balance} Interest: {self.interest}%'\n",
    "            \n",
    "\n",
    "class Checking(Account):\n",
    "    '''\n",
    "    Represents a checking account inheriting the Account class\n",
    "\n",
    "    attributes: inherited attributes from Account class\n",
    "    '''\n",
    "    def __init__(self, accountID = '', balance = 0):\n",
    "        super().__init__()\n",
    "        self.interest = 0\n",
    "\n",
    "class Savings(Account):\n",
    "    '''\n",
    "    Represents a savings account inheriting the Account class\n",
    "\n",
    "    attributes: inherited attributes from Account class\n",
    "    '''\n",
    "    def __init__(self, accountID = '', balance = 0):\n",
    "        super().__init__()\n",
    "        self.interest = 1\n",
    "\n",
    "class Credit(Account):\n",
    "    '''\n",
    "    Represents a credit account inheriting the Account class\n",
    "\n",
    "    attributes: inherited attributes from Account class and a credit_limit which is an int or float\n",
    "    '''\n",
    "    def __init__(self, accountID = '', balance = 0, interest = 0, credit_limit = 0):\n",
    "        super().__init__(accountID, balance, interest)\n",
    "        \n",
    "        if not isinstance(credit_limit, (int, float)):\n",
    "            raise TypeError('Credit limit must be an int or float')\n",
    "        \n",
    "        if credit_limit < balance:\n",
    "            raise ValueError(\"Credit limit must be greater than or equal to the balance\")\n",
    "\n",
    "        self.credit_limit = credit_limit\n",
    "\n",
    "    def __str__(self):\n",
    "        s = super().__str__()\n",
    "        return f'{s} Credit limit: {self.credit_limit}'\n",
    "\n",
    "class Customer:\n",
    "    '''\n",
    "    Respresents a customer account\n",
    "\n",
    "    attributes: username as a string, checking as a Checking object, savings as a Savings object, credit as a Credit object\n",
    "    '''        \n",
    "    def __init__(self, username = '', checking = Checking() , savings = Savings(), credit = Credit()):\n",
    "        \n",
    "        if not isinstance(username, str):\n",
    "            raise TypeError('username must be a string')\n",
    "        \n",
    "        if not isinstance(checking, Checking):\n",
    "            raise TypeError('checking must be a Checking object')\n",
    "\n",
    "        if not isinstance(savings, Savings):\n",
    "            raise TypeError('savings must be a Savings object')\n",
    "\n",
    "        if not isinstance(credit, Credit):\n",
    "            raise TypeError('credit must be a Credit object')\n",
    "\n",
    "        self.username = username\n",
    "        self.checking = checking\n",
    "        self.savings = savings\n",
    "        self.credit = credit\n",
    "    "
   ]
  },
  {
   "cell_type": "code",
   "execution_count": 22,
   "metadata": {},
   "outputs": [
    {
     "name": "stdout",
     "output_type": "stream",
     "text": [
      "Select an option:\n",
      "1: Deposit \n",
      "2: Withdrawl\n",
      "3: Credit Card Charge\n",
      "4: Credit Card Payment\n",
      "5: View Customers\n",
      "6: Exit/Shut Down\n",
      "\n"
     ]
    },
    {
     "ename": "NameError",
     "evalue": "name 'viewcustomers' is not defined",
     "output_type": "error",
     "traceback": [
      "\u001b[0;31m---------------------------------------------------------------------------\u001b[0m",
      "\u001b[0;31mNameError\u001b[0m                                 Traceback (most recent call last)",
      "Cell \u001b[0;32mIn[22], line 32\u001b[0m\n\u001b[1;32m     29\u001b[0m         \u001b[38;5;28;01melse\u001b[39;00m:\n\u001b[1;32m     30\u001b[0m             \u001b[38;5;28mprint\u001b[39m(\u001b[38;5;124m\"\u001b[39m\u001b[38;5;124mSelect and actual option.\u001b[39m\u001b[38;5;124m\"\u001b[39m)\n\u001b[0;32m---> 32\u001b[0m \u001b[43minterface\u001b[49m\u001b[43m(\u001b[49m\u001b[43m)\u001b[49m\n",
      "Cell \u001b[0;32mIn[22], line 26\u001b[0m, in \u001b[0;36minterface\u001b[0;34m()\u001b[0m\n\u001b[1;32m     24\u001b[0m     creditcardpayment()\n\u001b[1;32m     25\u001b[0m \u001b[38;5;28;01melif\u001b[39;00m choice \u001b[38;5;241m==\u001b[39m \u001b[38;5;124m'\u001b[39m\u001b[38;5;124m5\u001b[39m\u001b[38;5;124m'\u001b[39m:\n\u001b[0;32m---> 26\u001b[0m     \u001b[43mviewcustomers\u001b[49m()\n\u001b[1;32m     27\u001b[0m \u001b[38;5;28;01melif\u001b[39;00m choice \u001b[38;5;241m==\u001b[39m \u001b[38;5;124m'\u001b[39m\u001b[38;5;124m6\u001b[39m\u001b[38;5;124m'\u001b[39m:\n\u001b[1;32m     28\u001b[0m     \u001b[38;5;28mprint\u001b[39m(\u001b[38;5;124m\"\u001b[39m\u001b[38;5;124mShutting Down...\u001b[39m\u001b[38;5;124m\"\u001b[39m, flush\u001b[38;5;241m=\u001b[39m\u001b[38;5;28;01mTrue\u001b[39;00m)\n",
      "\u001b[0;31mNameError\u001b[0m: name 'viewcustomers' is not defined"
     ]
    }
   ],
   "source": [
    "def interface():\n",
    "    choice = ''\n",
    "    while choice != '6':\n",
    "        print('Select an option:', flush=True)\n",
    "        print(\"1: Deposit \", flush=True)\n",
    "        print(\"2: Withdrawl\", flush=True)\n",
    "        print(\"3: Credit Card Charge\", flush=True)\n",
    "        print(\"4: Credit Card Payment\", flush=True)\n",
    "        print(\"5: View Customers\", flush=True)\n",
    "        print(\"6: Exit/Shut Down\", flush=True)\n",
    "        print(flush=True)\n",
    "\n",
    "        choice = input()\n",
    "\n",
    "        if choice == '1':\n",
    "            deposit()\n",
    "            # Try: Deposit()\n",
    "            # Except: print(\"An error occured\")\n",
    "        elif choice == '2':\n",
    "            withdrawl()\n",
    "        elif choice == '3':\n",
    "            creditcardcharge()\n",
    "        elif choice == '4':\n",
    "            creditcardpayment()\n",
    "        elif choice == '5':\n",
    "            viewcustomers()\n",
    "        elif choice == '6':\n",
    "            print(\"Shutting Down...\", flush=True)\n",
    "        else:\n",
    "            print(\"Select and actual option.\")\n",
    "\n",
    "interface()"
   ]
  },
  {
   "cell_type": "code",
   "execution_count": null,
   "metadata": {},
   "outputs": [],
   "source": [
    "def importCSV():"
   ]
  },
  {
   "cell_type": "code",
   "execution_count": null,
   "metadata": {},
   "outputs": [],
   "source": [
    "def viewCustomers():"
   ]
  },
  {
   "cell_type": "code",
   "execution_count": null,
   "metadata": {},
   "outputs": [],
   "source": [
    "def deposit():"
   ]
  },
  {
   "cell_type": "code",
   "execution_count": null,
   "metadata": {},
   "outputs": [],
   "source": [
    "def withdrawl():"
   ]
  },
  {
   "cell_type": "code",
   "execution_count": null,
   "metadata": {},
   "outputs": [],
   "source": [
    "def creditCardCharge():"
   ]
  },
  {
   "cell_type": "code",
   "execution_count": null,
   "metadata": {},
   "outputs": [],
   "source": [
    "def creditCardPayment():"
   ]
  },
  {
   "cell_type": "code",
   "execution_count": 30,
   "metadata": {},
   "outputs": [],
   "source": [
    "def csv_FileWriter(csvFile): \n",
    "    \n",
    "    import csv \n",
    "    with open(csvFile, 'w') as file:\n",
    "        writer = csv.writer(file)\n",
    "        \n",
    "def interfaceExit():\n",
    "    def openfile():\n",
    "        print(f'Enter file address:', flush=True)\n",
    "        file_add = input()\n",
    "        \n",
    "        try:\n",
    "            read_file = open(file_add)\n",
    "            print(f'File successfully opened.')\n",
    "        \n",
    "        except: \n",
    "            print(f'Invalid file address. Please try again.')\n",
    "            openfile()\n",
    "\n",
    "        csv_FileWriter(file_add)\n",
    "\n",
    "interfaceExit()"
   ]
  }
 ],
 "metadata": {
  "kernelspec": {
   "display_name": "Python 3",
   "language": "python",
   "name": "python3"
  },
  "language_info": {
   "codemirror_mode": {
    "name": "ipython",
    "version": 3
   },
   "file_extension": ".py",
   "mimetype": "text/x-python",
   "name": "python",
   "nbconvert_exporter": "python",
   "pygments_lexer": "ipython3",
   "version": "3.10.13"
  }
 },
 "nbformat": 4,
 "nbformat_minor": 2
}
