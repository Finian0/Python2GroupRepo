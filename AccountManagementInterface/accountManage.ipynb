{
 "cells": [
  {
   "cell_type": "code",
   "execution_count": 3,
   "metadata": {},
   "outputs": [
    {
     "name": "stdout",
     "output_type": "stream",
     "text": [
      "['amohr', '1337', '43.00', '0666', '101.45', '1729', '5000.00', '5000']\n",
      "['bbaggins', '2890', '15345.49', '2941', '########', '3021', '0.00', '50000']\n",
      "['emusk', '0001', '21588738', '0002', '########', '0003', '435678.6', '10000000']\n"
     ]
    }
   ],
   "source": [
    "def csv_FileReader(csvFile):\n",
    "    import csv\n",
    "    with open(csvFile, 'r') as file:\n",
    "        reader = csv.reader(file)\n",
    "        next(reader)\n",
    "        for row in reader:\n",
    "            print(row)\n",
    "csvFile = 'accounts.csv'\n",
    "csv_FileReader(csvFile)\n",
    "\n",
    "def csv_FileWriter(csvFile):"
   ]
  },
  {
   "cell_type": "code",
   "execution_count": 1,
   "metadata": {},
   "outputs": [],
   "source": [
    "class Account:\n",
    "    '''\n",
    "    Represents a generic financial account\n",
    "\n",
    "    attributes: accountID a string of 4 integers, balance as a float or int, interest as a float or int\n",
    "    '''\n",
    "    def __init__(self, accountID = '', balance = 0, interest = 0):\n",
    "\n",
    "        if not isinstance(accountID, str):\n",
    "            raise TypeError('Account id must be a string')\n",
    "        \n",
    "        if len(accountID) != 4:\n",
    "            raise ValueError('Account id must contain 4 digits')\n",
    "\n",
    "        for number in accountID:\n",
    "            if number not in '0123456789':\n",
    "                raise ValueError('Account id must contain only numbers')\n",
    "        \n",
    "        if not isinstance(balance, (int, float)):\n",
    "            raise TypeError('balance must be an integer or float')\n",
    "        \n",
    "        if not isinstance(interest, (int, float)):\n",
    "            raise TypeError('interest must be an integer or float')\n",
    "        \n",
    "        if interest < 0:\n",
    "            raise ValueError('Interest cannot be negative')\n",
    "        \n",
    "        self.accountID = accountID\n",
    "        self.balance = balance\n",
    "        self.interest = interest\n",
    "    \n",
    "    def __str__(self):\n",
    "        return f'Account ID: {self.accountID} Balance: {self.balance} Interest: {self.interest}%'\n",
    "            \n",
    "\n",
    "class Checking(Account):\n",
    "    '''\n",
    "    Represents a checking account inheriting the Account class\n",
    "\n",
    "    attributes: inherited attributes from Account class\n",
    "    '''\n",
    "    def __init__(self, accountID = '', balance = 0):\n",
    "        super().__init__()\n",
    "        self.interest = 0\n",
    "\n",
    "class Savings(Account):\n",
    "    '''\n",
    "    Represents a savings account inheriting the Account class\n",
    "\n",
    "    attributes: inherited attributes from Account class\n",
    "    '''\n",
    "    def __init__(self, accountID = '', balance = 0):\n",
    "        super().__init__()\n",
    "        self.interest = 1\n",
    "\n",
    "class Credit(Account):\n",
    "    '''\n",
    "    Represents a credit account inheriting the Account class\n",
    "\n",
    "    attributes: inherited attributes from Account class and a credit_limit which is an int or float\n",
    "    '''\n",
    "    def __init__(self, accountID = '', balance = 0, interest = 0, credit_limit = 0):\n",
    "        super().__init__(accountID, balance, interest)\n",
    "        \n",
    "        if not isinstance(credit_limit, (int, float)):\n",
    "            raise TypeError('Credit limit must be an int or float')\n",
    "        \n",
    "        if credit_limit < balance:\n",
    "            raise ValueError(\"Credit limit must be greater than or equal to the balance\")\n",
    "\n",
    "        self.credit_limit = credit_limit\n",
    "\n",
    "    def __str__(self):\n",
    "        s = super().__str__()\n",
    "        return f'{s} Credit limit: {self.credit_limit}'\n",
    "\n",
    "class Customer:\n",
    "    '''\n",
    "    Respresents a customer account\n",
    "\n",
    "    attributes: username as a string, checking as a Checking object, savings as a Savings object, credit as a Credit object\n",
    "    '''        \n",
    "    def __init__(self, username = '', checking = Checking() , savings = Savings(), credit = Credit()):\n",
    "        \n",
    "        if not isinstance(username, str):\n",
    "            raise TypeError('username must be a string')\n",
    "        \n",
    "        if not isinstance(checking, Checking):\n",
    "            raise TypeError('checking must be a Checking object')\n",
    "\n",
    "        if not isinstance(savings, Savings):\n",
    "            raise TypeError('savings must be a Savings object')\n",
    "\n",
    "        if not isinstance(credit, Credit):\n",
    "            raise TypeError('credit must be a Credit object')\n",
    "\n",
    "        self.username = username\n",
    "        self.checking = checking\n",
    "        self.savings = savings\n",
    "        self.credit = credit\n",
    "    "
   ]
  },
  {
   "cell_type": "code",
   "execution_count": null,
   "metadata": {},
   "outputs": [],
   "source": [
    "def interface():"
   ]
  },
  {
   "cell_type": "code",
   "execution_count": null,
   "metadata": {},
   "outputs": [],
   "source": [
    "def importCSV():"
   ]
  },
  {
   "cell_type": "code",
   "execution_count": null,
   "metadata": {},
   "outputs": [],
   "source": [
    "def viewCustomers():"
   ]
  },
  {
   "cell_type": "code",
   "execution_count": null,
   "metadata": {},
   "outputs": [],
   "source": [
    "def deposit():"
   ]
  },
  {
   "cell_type": "code",
   "execution_count": null,
   "metadata": {},
   "outputs": [],
   "source": [
    "def withdrawl():"
   ]
  },
  {
   "cell_type": "code",
   "execution_count": null,
   "metadata": {},
   "outputs": [],
   "source": [
    "def creditChargeInput():\n",
    "    while True:\n",
    "        print(\"Please enter a username or type 'exit' to return to the menu\", flush = True)\n",
    "        userInput = input(\"Please enter a username\")\n",
    "        if userInput == 'exit' or userInput == 'Exit': return\n",
    "        selectedAccount = \n",
    "\n",
    "    while True:\n",
    "        print(\"Please enter an amount to charge to the credit account or type 'exit' to return to the menu\", flush = True)\n",
    "        userInput = input(\"Please enter an amount\")\n",
    "        if userInput == 'exit' or userInput == 'Exit': return\n",
    "        try:\n",
    "\n",
    "        except:\n",
    "\n",
    "def creditCharge(self, ):\n"
   ]
  },
  {
   "cell_type": "code",
   "execution_count": null,
   "metadata": {},
   "outputs": [],
   "source": [
    "def creditCardPayment():"
   ]
  },
  {
   "cell_type": "code",
   "execution_count": null,
   "metadata": {},
   "outputs": [],
   "source": [
    "def interfaceExit():"
   ]
  },
  {
   "cell_type": "code",
   "execution_count": 11,
   "metadata": {},
   "outputs": [
    {
     "name": "stdout",
     "output_type": "stream",
     "text": [
      "Please enter a username (case-sensitive) or type 'exit' to return to the menu\n"
     ]
    }
   ],
   "source": [
    "print(\"Please enter a username or type 'exit' to return to the menu\", flush = True)\n",
    "# print(\"or type 'exit' to return to the menu\", flush = True)"
   ]
  }
 ],
 "metadata": {
  "kernelspec": {
   "display_name": "Python 3",
   "language": "python",
   "name": "python3"
  },
  "language_info": {
   "codemirror_mode": {
    "name": "ipython",
    "version": 3
   },
   "file_extension": ".py",
   "mimetype": "text/x-python",
   "name": "python",
   "nbconvert_exporter": "python",
   "pygments_lexer": "ipython3",
   "version": "3.10.13"
  }
 },
 "nbformat": 4,
 "nbformat_minor": 2
}
