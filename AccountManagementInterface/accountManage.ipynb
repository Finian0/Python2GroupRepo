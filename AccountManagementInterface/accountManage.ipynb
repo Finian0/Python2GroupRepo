{
 "cells": [
  {
   "cell_type": "code",
   "execution_count": 1,
   "metadata": {},
   "outputs": [
    {
     "data": {
      "text/plain": [
       "[['amohr', '1337', '43.00', '0666', '101.45', '1729', '5000.00', '5000'],\n",
       " ['bbaggins', '2890', '15345.49', '2941', '4345', '3021', '0.00', '50000'],\n",
       " ['emusk', '0001', '21588738', '0002', '1000', '0003', '435678.6', '10000000']]"
      ]
     },
     "execution_count": 1,
     "metadata": {},
     "output_type": "execute_result"
    }
   ],
   "source": [
    "def csv_FileReader(csvFile):\n",
    "    import csv\n",
    "    with open(csvFile, 'r') as file:\n",
    "        reader = csv.reader(file)\n",
    "        next(reader)\n",
    "        accountsList = []\n",
    "        for row in reader:\n",
    "            accountsList.append(row)\n",
    "        return accountsList\n",
    "csvFile = 'accounts.csv'\n",
    "csv_FileReader(csvFile)\n",
    "\n",
    "#def csv_FileWriter(csvFile):"
   ]
  },
  {
   "cell_type": "code",
   "execution_count": 2,
   "metadata": {},
   "outputs": [],
   "source": [
    "class Account:\n",
    "    '''\n",
    "    Represents a generic financial account\n",
    "\n",
    "    attributes: accountID a string of 4 integers, balance as a float or int, interest as a float or int\n",
    "    '''\n",
    "    def __init__(self, accountID = '0000', balance = 0, interest = 0):\n",
    "\n",
    "        if not isinstance(accountID, str):\n",
    "            raise TypeError('Account id must be a string')\n",
    "        \n",
    "        if len(accountID) != 4:\n",
    "            raise ValueError('Account id must contain 4 digits')\n",
    "\n",
    "        for number in accountID:\n",
    "            if number not in '0123456789':\n",
    "                raise ValueError('Account id must contain only numbers')\n",
    "        \n",
    "        if not isinstance(balance, (int, float)):\n",
    "            raise TypeError('balance must be an integer or float')\n",
    "        \n",
    "        if not isinstance(interest, (int, float)):\n",
    "            raise TypeError('interest must be an integer or float')\n",
    "        \n",
    "        if interest < 0:\n",
    "            raise ValueError('Interest cannot be negative')\n",
    "        \n",
    "        self.accountID = accountID\n",
    "        self.balance = balance\n",
    "        self.interest = interest\n",
    "    \n",
    "    def __str__(self):\n",
    "        return f'Account ID: {self.accountID} Balance: {self.balance} Interest: {self.interest}%'\n",
    "\n",
    "    def deposit(self, depositAmount):\n",
    "        if not isinstance(self, Credit):\n",
    "            self.balance += depositAmount\n",
    "        \n",
    "\n",
    "    def withdrawl(self, withdrawlAmount):\n",
    "        if not isinstance(self, Credit):\n",
    "            if withdrawlAmount <= self.balance:\n",
    "                self.balance -= withdrawlAmount\n",
    "            else:\n",
    "                print('Withdrawing all funds.')\n",
    "                self.balance = 0\n",
    "   \n",
    "        \n",
    "            \n",
    "\n",
    "class Checking(Account):\n",
    "    '''\n",
    "    Represents a checking account inheriting the Account class\n",
    "\n",
    "    attributes: inherited attributes from Account class\n",
    "    '''\n",
    "    def __init__(self, accountID = '0000', balance = 0):\n",
    "        super().__init__(accountID, balance)\n",
    "        self.interest = 0\n",
    "\n",
    "class Savings(Account):\n",
    "    '''\n",
    "    Represents a savings account inheriting the Account class\n",
    "\n",
    "    attributes: inherited attributes from Account class\n",
    "    '''\n",
    "    def __init__(self, accountID = '0000', balance = 0):\n",
    "        super().__init__(accountID, balance)\n",
    "        self.interest = 1\n",
    "\n",
    "class Credit(Account):\n",
    "    '''\n",
    "    Represents a credit account inheriting the Account class\n",
    "\n",
    "    attributes: inherited attributes from Account class and a credit_limit which is an int or float\n",
    "    '''\n",
    "    def __init__(self, accountID = '0000', balance = 0, interest = 0, credit_limit = 0):\n",
    "        super().__init__(accountID, balance, interest)\n",
    "        \n",
    "        if not isinstance(credit_limit, (int, float)):\n",
    "            raise TypeError('Credit limit must be an int or float')\n",
    "        \n",
    "        if credit_limit > balance:\n",
    "            raise ValueError(\"Credit limit must be greater than or equal to the balance\")\n",
    "\n",
    "        self.credit_limit = credit_limit\n",
    "\n",
    "    def __str__(self):\n",
    "        s = super().__str__()\n",
    "        return f'{s} Credit limit: {self.credit_limit}'\n",
    "\n",
    "class Customer:\n",
    "    '''\n",
    "    Respresents a customer account\n",
    "\n",
    "    attributes: username as a string, checking as a Checking object, savings as a Savings object, credit as a Credit object\n",
    "    '''        \n",
    "    def __init__(self, username = '', checking = Checking() , savings = Savings(), credit = Credit()):\n",
    "        \n",
    "        if not isinstance(username, str):\n",
    "            raise TypeError('username must be a string')\n",
    "        \n",
    "        if not isinstance(checking, Checking):\n",
    "            raise TypeError('checking must be a Checking object')\n",
    "\n",
    "        if not isinstance(savings, Savings):\n",
    "            raise TypeError('savings must be a Savings object')\n",
    "\n",
    "        if not isinstance(credit, Credit):\n",
    "            raise TypeError('credit must be a Credit object')\n",
    "\n",
    "        self.username = username\n",
    "        self.checking = checking\n",
    "        self.savings = savings\n",
    "        self.credit = credit\n",
    "    "
   ]
  },
  {
   "cell_type": "code",
   "execution_count": 3,
   "metadata": {},
   "outputs": [
    {
     "name": "stdout",
     "output_type": "stream",
     "text": [
      "Select an option:\n",
      "1: Deposit \n",
      "2: Withdrawl\n",
      "3: Credit Card Charge\n",
      "4: Credit Card Payment\n",
      "5: View Customers\n",
      "6: Exit/Shut Down\n",
      "\n"
     ]
    },
    {
     "ename": "NameError",
     "evalue": "name 'withdrawl' is not defined",
     "output_type": "error",
     "traceback": [
      "\u001b[0;31m---------------------------------------------------------------------------\u001b[0m",
      "\u001b[0;31mNameError\u001b[0m                                 Traceback (most recent call last)",
      "Cell \u001b[0;32mIn[16], line 32\u001b[0m\n\u001b[1;32m     29\u001b[0m         \u001b[38;5;28;01melse\u001b[39;00m:\n\u001b[1;32m     30\u001b[0m             \u001b[38;5;28mprint\u001b[39m(\u001b[38;5;124m\"\u001b[39m\u001b[38;5;124mSelect and actual option.\u001b[39m\u001b[38;5;124m\"\u001b[39m)\n\u001b[0;32m---> 32\u001b[0m \u001b[43minterface\u001b[49m\u001b[43m(\u001b[49m\u001b[43m)\u001b[49m\n",
      "Cell \u001b[0;32mIn[16], line 20\u001b[0m, in \u001b[0;36minterface\u001b[0;34m()\u001b[0m\n\u001b[1;32m     17\u001b[0m     \u001b[38;5;66;03m# Try: Deposit()\u001b[39;00m\n\u001b[1;32m     18\u001b[0m     \u001b[38;5;66;03m# Except: print(\"An error occured\")\u001b[39;00m\n\u001b[1;32m     19\u001b[0m \u001b[38;5;28;01melif\u001b[39;00m choice \u001b[38;5;241m==\u001b[39m \u001b[38;5;124m'\u001b[39m\u001b[38;5;124m2\u001b[39m\u001b[38;5;124m'\u001b[39m:\n\u001b[0;32m---> 20\u001b[0m     \u001b[43mwithdrawl\u001b[49m()\n\u001b[1;32m     21\u001b[0m \u001b[38;5;28;01melif\u001b[39;00m choice \u001b[38;5;241m==\u001b[39m \u001b[38;5;124m'\u001b[39m\u001b[38;5;124m3\u001b[39m\u001b[38;5;124m'\u001b[39m:\n\u001b[1;32m     22\u001b[0m     creditcardcharge()\n",
      "\u001b[0;31mNameError\u001b[0m: name 'withdrawl' is not defined"
     ]
    }
   ],
   "source": [
    "def interface():\n",
    "    choice = ''\n",
    "    while choice != '6':\n",
    "        print('Select an option:', flush=True)\n",
    "        print(\"1: Deposit \", flush=True)\n",
    "        print(\"2: Withdrawl\", flush=True)\n",
    "        print(\"3: Credit Card Charge\", flush=True)\n",
    "        print(\"4: Credit Card Payment\", flush=True)\n",
    "        print(\"5: View Customers\", flush=True)\n",
    "        print(\"6: Exit/Shut Down\", flush=True)\n",
    "        print(flush=True)\n",
    "\n",
    "        choice = input()\n",
    "\n",
    "        if choice == '1':\n",
    "            deposit()\n",
    "            # Try: Deposit()\n",
    "            # Except: print(\"An error occured\")\n",
    "        elif choice == '2':\n",
    "            withdrawl()\n",
    "        elif choice == '3':\n",
    "            creditcardcharge()\n",
    "        elif choice == '4':\n",
    "            creditcardpayment()\n",
    "        elif choice == '5':\n",
    "            viewcustomers()\n",
    "        elif choice == '6':\n",
    "            print(\"Shutting Down...\", flush=True)\n",
    "        else:\n",
    "            print(\"Select and actual option.\")\n",
    "\n",
    "interface()"
   ]
  },
  {
   "cell_type": "code",
   "execution_count": 6,
   "metadata": {},
   "outputs": [
    {
     "name": "stdout",
     "output_type": "stream",
     "text": [
      "<__main__.Customer object at 0x7fb0d4de5240>\n",
      "<__main__.Customer object at 0x7fb0d4de6b90>\n",
      "<__main__.Customer object at 0x7fb0d4de6fb0>\n"
     ]
    },
    {
     "data": {
      "text/plain": [
       "[<__main__.Customer at 0x7fb0d4de5240>,\n",
       " <__main__.Customer at 0x7fb0d4de6b90>,\n",
       " <__main__.Customer at 0x7fb0d4de6fb0>]"
      ]
     },
     "execution_count": 6,
     "metadata": {},
     "output_type": "execute_result"
    }
   ],
   "source": [
    "def importCSV():\n",
    "    csvFile = input(\"Enter the address of the csv file\")\n",
    "    try:\n",
    "        accountInfo = csv_FileReader(csvFile)\n",
    "    except:\n",
    "        print(\"Either the file you gave could not be found, or the CSV file could not be read. Returning to menu...\")\n",
    "        return\n",
    "    listofCustomers = []\n",
    "    for row in accountInfo:\n",
    "        createChecking = Checking(row[1], float(row[2]))\n",
    "        createSavings = Savings(row[3], float(row[4]))\n",
    "        createCredit = Credit(row[5], float(row[6]), float(row[7]))\n",
    "        createCustomer = Customer(row[0], createChecking, createSavings, createCredit)\n",
    "        listofCustomers.append(createCustomer)\n",
    "    for cust in listofCustomers:\n",
    "        print(cust)\n",
    "    return listofCustomers\n",
    "importCSV()\n"
   ]
  },
  {
   "cell_type": "code",
   "execution_count": null,
   "metadata": {},
   "outputs": [],
   "source": [
    "def viewCustomers():"
   ]
  },
  {
   "cell_type": "code",
   "execution_count": 8,
   "metadata": {},
   "outputs": [],
   "source": [
    "def CustomerSelection():\n",
    "    \n",
    "    global customerList\n",
    "\n",
    "    print(f\"Enter customer username or type 'exit' to return to the menu:\", flush = True)\n",
    "    requestedUsername = input()\n",
    "\n",
    "    if requestedUsername == 'exit' or requestedUsername == 'Exit': \n",
    "        return 'exit'\n",
    "\n",
    "    for cust in customerList:\n",
    "        if cust.username == requestedUsername:\n",
    "            return cust\n",
    "\n",
    "    print(f'No such username exists. Try again')\n",
    "    CustomerSelection()"
   ]
  },
  {
   "cell_type": "code",
   "execution_count": null,
   "metadata": {},
   "outputs": [],
   "source": [
    "def withdrawl():"
   ]
  },
  {
   "cell_type": "code",
   "execution_count": null,
   "metadata": {},
   "outputs": [],
   "source": [
    "def creditChargeInput():\n",
    "    \n",
    "    customer = CustomerSelection()\n",
    "    \n",
    "    if userInput == 'exit': return\n",
    "\n",
    "    while True:\n",
    "        print(\"Please enter an amount to charge to the credit account or type 'exit' to return to the menu\", flush = True)\n",
    "        userInput = input(\"Please enter an amount\")\n",
    "        if userInput == 'exit' or userInput == 'Exit': return\n",
    "        try:\n",
    "\n",
    "        except:\n",
    "\n",
    "def creditCharge(self, ):\n"
   ]
  },
  {
   "cell_type": "code",
   "execution_count": null,
   "metadata": {},
   "outputs": [],
   "source": [
    "def creditCardPayment():"
   ]
  },
  {
   "cell_type": "code",
   "execution_count": 9,
   "metadata": {},
   "outputs": [
    {
     "ename": "TypeError",
     "evalue": "csv_FileWriter() missing 1 required positional argument: 'customerLookup'",
     "output_type": "error",
     "traceback": [
      "\u001b[0;31m---------------------------------------------------------------------------\u001b[0m",
      "\u001b[0;31mTypeError\u001b[0m                                 Traceback (most recent call last)",
      "Cell \u001b[0;32mIn[9], line 24\u001b[0m\n\u001b[1;32m     21\u001b[0m             writer\u001b[38;5;241m.\u001b[39mwriterow(cust) \n\u001b[1;32m     22\u001b[0m             \u001b[38;5;28mprint\u001b[39m(cust)\n\u001b[0;32m---> 24\u001b[0m \u001b[43mcsv_FileWriter\u001b[49m\u001b[43m(\u001b[49m\u001b[43mcsvFile\u001b[49m\u001b[43m)\u001b[49m\n",
      "\u001b[0;31mTypeError\u001b[0m: csv_FileWriter() missing 1 required positional argument: 'customerLookup'"
     ]
    }
   ],
   "source": [
    "def customerLookup():\n",
    "\n",
    "    global customerList\n",
    "    print(f'Enter customer username:', flush=True) \n",
    "    requestedUsername = input()\n",
    "\n",
    "    for cust in customerList:\n",
    "        if cust.username == requestedUsername:\n",
    "            return cust\n",
    "    \n",
    "    print(f'No such username.')\n",
    "    customerLookup()\n",
    "\n",
    "def csv_FileWriter(csvFile, customerLookup):\n",
    "    import csv\n",
    "    with open(csvFile, 'w', newline='') as file:\n",
    "        writer = file.writer(file)\n",
    "        writer.writerow([\"username\",\"checking_id\",\"checking_balance\",\"savings_id\",\"savings_balance\",\"credit_id\",\"credit_balance\",\"credit_limit\"])\n",
    "        for cust in customerList:\n",
    "            writer.writerow([cust.username, cust.checking.accountID, cust.checking.balance, cust.savings.accountID, cust.savings.balance, cust.credit.accountID, cust.credit.balance, cust.credit.credit_limit])\n",
    "            print(cust)\n",
    "\n",
    "csv_FileWriter(csvFile)\n",
    "\n",
    "    \n"
   ]
  },
  {
   "cell_type": "code",
   "execution_count": null,
   "metadata": {},
   "outputs": [],
   "source": [
    ":"
   ]
  },
  {
   "cell_type": "code",
   "execution_count": 11,
   "metadata": {},
   "outputs": [
    {
     "name": "stdout",
     "output_type": "stream",
     "text": [
      "Please enter a username (case-sensitive) or type 'exit' to return to the menu\n"
     ]
    }
   ],
   "source": [
    "print(\"Please enter a username or type 'exit' to return to the menu\", flush = True)\n",
    "# print(\"or type 'exit' to return to the menu\", flush = True)"
   ]
  }
 ],
 "metadata": {
  "kernelspec": {
   "display_name": "Python 3",
   "language": "python",
   "name": "python3"
  },
  "language_info": {
   "codemirror_mode": {
    "name": "ipython",
    "version": 3
   },
   "file_extension": ".py",
   "mimetype": "text/x-python",
   "name": "python",
   "nbconvert_exporter": "python",
   "pygments_lexer": "ipython3",
   "version": "3.10.13"
  }
 },
 "nbformat": 4,
 "nbformat_minor": 2
}
