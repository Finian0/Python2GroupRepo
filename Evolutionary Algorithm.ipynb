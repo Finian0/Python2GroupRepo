{
 "cells": [
  {
   "cell_type": "markdown",
   "metadata": {},
   "source": [
    "### Evolutionary Pseudocode\n",
    "```\n",
    "FUNCTION tsp_evolution(name_file, distance_file)\n",
    "    INITIALIZE totalDistanceTrav equaled to 0\n",
    "    INITIALIZE listCities = empty list\n",
    "    INITIALIZE cities as readCitiesFile(name_file)\n",
    "    INITIALIZE distances as readDistanceFile(distance_file)\n",
    "    FOR names in name_file\n",
    "        ADD names to listCities\n",
    "        ADD totalDistanceTrav += distance between the selected city and the next\n",
    "\n",
    "\n",
    "\n",
    "```"
   ]
  }
 ],
 "metadata": {
  "kernelspec": {
   "display_name": "Python 3",
   "language": "python",
   "name": "python3"
  },
  "language_info": {
   "name": "python",
   "version": "3.10.13"
  }
 },
 "nbformat": 4,
 "nbformat_minor": 2
}
