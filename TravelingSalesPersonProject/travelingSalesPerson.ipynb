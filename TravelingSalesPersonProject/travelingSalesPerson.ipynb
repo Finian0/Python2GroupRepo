{
 "cells": [
  {
   "cell_type": "markdown",
   "metadata": {},
   "source": [
    "### Evolutionary Pseudocode\n",
    "```\n",
    "FUNCTION tsp_evolution(name_file, distance_file)\n",
    "    INITIALIZE totalDistanceTrav equaled to 0\n",
    "    INITIALIZE listCities = empty list\n",
    "    INITIALIZE cities as readCitiesFile(name_file)\n",
    "    INITIALIZE distances as readDistanceFile(distance_file)\n",
    "    FOR names in name_file\n",
    "        ADD names to listCities\n",
    "        ADD totalDistanceTrav += distance between the selected city and the next\n",
    "\n",
    "\n",
    "\n",
    "```"
   ]
  },
  {
   "cell_type": "markdown",
   "metadata": {},
   "source": [
    "### Pseudocode for Greedy\n",
    "```\n",
    "Input: name and distance  found in files\n",
    "Output: The optimal route(as a list of names of cities)\n",
    "\n",
    "function to find disactnce between cities \n",
    "\n",
    "function to get distance from list of cities \n",
    "\n",
    "Initialize list of lists that has the cities distances\n",
    "Initialie a total distance variable to 0\n",
    "create empty list called best_route\n",
    "create empty list called current_route\n",
    "\n",
    "function taking name and distacne:\n",
    "    FOR every city on file \n",
    "        FOR each distacne between two cities\n",
    "            IF len(current_route) != len(list of lists)\n",
    "                find shortest distance between 2 cities \n",
    "                IF city has been used\n",
    "                    dont use it\n",
    "                ELSE \n",
    "                add the name of the first city to current_route\n",
    "            ELSE:\n",
    "                IF total distance in current is less than in best \n",
    "                    make current_route into best_route\n",
    "    return best_route | distacne maker(best_route)\n",
    "\n",
    "```\n",
    "\n"
   ]
  },
  {
   "cell_type": "markdown",
   "metadata": {},
   "source": [
    "### Pseudocode for backtracking\n",
    "```\n",
    "INPUT name files and distance file\n",
    "OUTPUT the optimal route \n",
    "\n",
    "funciton that reads the files and gives distncace between cities and puts them into a list of lists that reads (list of distances)\n",
    "\n",
    "make that list a global variable\n",
    "\n",
    "make an empty list for best tour \n",
    "\n",
    "\n",
    "function that takes variables cities_left and cities_visited\n",
    "IF cities_left == 0\n",
    "    IF total_distance(cities_visited) < total_distance(best tour)\n",
    "        best tour == cities visited\n",
    "ELIF cities_visited == 1\n",
    "    FOR next in cities_left\n",
    "        FOR last in cities_left \n",
    "            IF last > next \n",
    "                append last\n",
    "                append next\n",
    "ELSE \n",
    "    FOR each city in cities_left\n",
    "        make a copy of CV\n",
    "        APPEND city to cities_visited copy\n",
    "        make a copy of CL\n",
    "        REMOVE city from cities_left copy\n",
    "        CALL function with new cities_visited copy and cities_left copy\n",
    "\n",
    "function(city 0, every city but 0)\n",
    "```\n",
    "\n"
   ]
  },
  {
   "cell_type": "code",
   "execution_count": null,
   "metadata": {
    "vscode": {
     "languageId": "plaintext"
    }
   },
   "outputs": [],
   "source": []
  },
  {
   "cell_type": "code",
   "execution_count": null,
   "metadata": {
    "vscode": {
     "languageId": "plaintext"
    }
   },
   "outputs": [],
   "source": []
  }
 ],
 "metadata": {
  "kernelspec": {
   "display_name": "Python 3",
   "language": "python",
   "name": "python3"
  },
  "language_info": {
   "name": "python",
   "version": "3.10.13"
  }
 },
 "nbformat": 4,
 "nbformat_minor": 2
}
