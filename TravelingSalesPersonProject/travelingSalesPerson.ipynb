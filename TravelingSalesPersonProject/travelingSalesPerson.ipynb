{
 "cells": [
  {
   "cell_type": "markdown",
   "metadata": {},
   "source": [
    "### Evolutionary Pseudocode\n",
    "```            \n",
    "FUNCTION tsp_evolution(name_file, distance_file)\n",
    "    INITIALIZE cities as readCitiesFile(name_file)\n",
    "    INITIALIZE distances as readDistanceFile(distance_file)\n",
    "    INITIALIZE currentRoute as empty list\n",
    "    INITIALIZE currentDistance as 0\n",
    "    INITIALIZE bestRoute as empty list\n",
    "    INITIALIZE bestDistance as 0\n",
    "    INITIALIZE stagnationCounter as 0\n",
    "    INITIALIZE terminateFlag to false\n",
    "\n",
    "    FOR names in cities\n",
    "        ADD names to currentRoute\n",
    "    currentDistance = calculateDistance(currentRoute)\n",
    "\n",
    "    WHILE(!terminateFlag)\n",
    "        SET parentRoute = currentRoute\n",
    "        SET parentDistance = currentDistance\n",
    "        FOR offspring in range(100)\n",
    "            SET mutatedRoute to copy of parentRoute with 2 randomly swapped cities\n",
    "            SET mutatedDistance to calculateDistance(mutatedRoute)\n",
    "            IF mutatedDistance < currentDistance THEN \n",
    "                SET currentDistance = mutatedDistance\n",
    "                SET currentRoute = mutatedRoute\n",
    "\n",
    "        IF parentDistance == currentDistance THEN \n",
    "            SET bestRoute to parentRoute\n",
    "            SET bestDistance to parentDistance\n",
    "            ADD 1 to stagnationCounter\n",
    "\n",
    "            FOR iteration in range(3)\n",
    "                SET currentRoute to a copy of currentRoute with 2 randomly swapped cities\n",
    "            SET currentDistance to calculateDistance(currentRoute)\n",
    "\n",
    "        IF stagnationCounter >= 5 THEN\n",
    "            terminateFlag = true\n",
    "    RETURN bestRoute\n",
    "            \n",
    "\n",
    "FUNCTION readCitiesFile(name_file)\n",
    "    INITIALIZE cities as list of strings found on each line of name file\n",
    "    RETURN distances\n",
    "\n",
    "FUNCTION readDistanceFile(distance_file)\n",
    "    INITIALIZE distances as list of a list of integers representing distance from city to city\n",
    "    RETURN distances\n",
    "\n",
    "FUNCTION calculateDistance(route)\n",
    "    INITIALIZE totalDistance = 0\n",
    "    FOR cities in route\n",
    "        totalDistance += distance between two cities\n",
    "    RETURN totalDistance\n",
    "\n",
    "\n",
    "\n",
    "```"
   ]
  },
  {
   "cell_type": "markdown",
   "metadata": {},
   "source": [
    "### Pseudocode for Greedy\n",
    "```\n",
    "Input: name and distance  found in files\n",
    "Output: The optimal route(as a list of names of cities)\n",
    "\n",
    "function to find disactnce between cities \n",
    "\n",
    "function to get distance from list of cities \n",
    "\n",
    "Initialize list of lists that has the cities distances\n",
    "Initialie a total distance variable to 0\n",
    "create empty list called best_route\n",
    "create empty list called current_route\n",
    "\n",
    "function taking name and distacne:\n",
    "    FOR every city on file \n",
    "        FOR each distacne between two cities\n",
    "            IF len(current_route) != len(list of lists)\n",
    "                find shortest distance between 2 cities \n",
    "                IF city has been used\n",
    "                    dont use it\n",
    "                ELSE \n",
    "                add the name of the first city to current_route\n",
    "            ELSE:\n",
    "                IF total distance in current is less than in best \n",
    "                    make current_route into best_route\n",
    "    return best_route | distacne maker(best_route)\n",
    "\n",
    "```\n",
    "\n"
   ]
  },
  {
   "cell_type": "markdown",
   "metadata": {},
   "source": [
    "### Pseudocode for backtracking\n",
    "```\n",
    "INPUT name files and distance file\n",
    "OUTPUT the optimal route \n",
    "\n",
    "funciton that reads the files and gives distncace between cities and puts them into a list of lists that reads (list of distances)\n",
    "\n",
    "make that list a global variable\n",
    "\n",
    "make an empty list for best tour \n",
    "\n",
    "\n",
    "function that takes variables cities_left and cities_visited\n",
    "IF cities_left == 0\n",
    "    IF total_distance(cities_visited) < total_distance(best tour)\n",
    "        best tour == cities visited\n",
    "ELIF cities_visited == 1\n",
    "    FOR next in cities_left\n",
    "        FOR last in cities_left \n",
    "            IF last > next \n",
    "                append last\n",
    "                append next\n",
    "ELSE \n",
    "    FOR each city in cities_left\n",
    "        make a copy of CV\n",
    "        APPEND city to cities_visited copy\n",
    "        make a copy of CL\n",
    "        REMOVE city from cities_left copy\n",
    "        CALL function with new cities_visited copy and cities_left copy\n",
    "\n",
    "function(city 0, every city but 0)\n",
    "```\n",
    "\n"
   ]
  },
  {
   "cell_type": "code",
   "execution_count": null,
   "metadata": {
    "vscode": {
     "languageId": "plaintext"
    }
   },
   "outputs": [],
   "source": []
  },
  {
   "cell_type": "code",
   "execution_count": null,
   "metadata": {
    "vscode": {
     "languageId": "plaintext"
    }
   },
   "outputs": [],
   "source": []
  }
 ],
 "metadata": {
  "kernelspec": {
   "display_name": "Python 3",
   "language": "python",
   "name": "python3"
  },
  "language_info": {
   "name": "python",
   "version": "3.10.13"
  }
 },
 "nbformat": 4,
 "nbformat_minor": 2
}
