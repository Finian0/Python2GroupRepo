{
 "cells": [
  {
   "cell_type": "code",
   "execution_count": null,
   "metadata": {},
   "outputs": [],
   "source": [
    "def substitution_encrypt(plaintext_file, ciphertext_file, cipher_alphabet):\n",
    "    \n",
    "\n",
    "def substitution_decrypt(ciphertext_file, plaintext_file, cipher_alphabet):\n",
    "\n"
   ]
  }
 ],
 "metadata": {
  "language_info": {
   "name": "python"
  }
 },
 "nbformat": 4,
 "nbformat_minor": 2
}
